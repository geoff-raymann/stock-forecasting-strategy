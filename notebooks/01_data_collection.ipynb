{
 "cells": [
  {
   "cell_type": "code",
   "execution_count": null,
   "id": "4df87027",
   "metadata": {},
   "outputs": [],
   "source": [
    "\n",
    "from pathlib import Path\n",
    "import sys\n",
    "\n",
    "# Add the parent directory to sys.path to import preprocessing.py\n",
    "sys.path.append(str(Path().resolve().parent / 'src'))\n",
    "\n",
    "# Variables available_styles, data, data_path, df, df_all, file_path, ticker, tickers are already defined in the notebook."
   ]
  }
 ],
 "metadata": {
  "kernelspec": {
   "display_name": "stock_forecast",
   "language": "python",
   "name": "python3"
  },
  "language_info": {
   "codemirror_mode": {
    "name": "ipython",
    "version": 3
   },
   "file_extension": ".py",
   "mimetype": "text/x-python",
   "name": "python",
   "nbconvert_exporter": "python",
   "pygments_lexer": "ipython3",
   "version": "3.11.11"
  }
 },
 "nbformat": 4,
 "nbformat_minor": 5
}
