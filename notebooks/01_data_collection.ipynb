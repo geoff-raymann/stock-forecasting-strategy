{
 "cells": [
  {
   "cell_type": "code",
   "execution_count": 4,
   "id": "4df87027",
   "metadata": {},
   "outputs": [
    {
     "name": "stderr",
     "output_type": "stream",
     "text": [
      "[*********************100%***********************]  1 of 1 completed"
     ]
    },
    {
     "name": "stdout",
     "output_type": "stream",
     "text": [
      "Price            Close        High         Low        Open     Volume\n",
      "Ticker            AAPL        AAPL        AAPL        AAPL       AAPL\n",
      "Date                                                                 \n",
      "2023-01-03  123.470612  129.226052  122.582119  128.613985  112117500\n",
      "2023-01-04  124.744133  127.014724  123.480503  125.267354   89113600\n",
      "2023-01-05  123.421249  126.136083  123.164580  125.504267   80962700\n",
      "2023-01-06  127.962425  128.623856  123.292916  124.398597   87754700\n",
      "2023-01-09  128.485657  131.703978  128.228987  128.801572   70790800\n"
     ]
    },
    {
     "name": "stderr",
     "output_type": "stream",
     "text": [
      "\n"
     ]
    }
   ],
   "source": [
    "import yfinance as yf\n",
    "data = yf.download(\"AAPL\", start=\"2023-01-01\", end=\"2023-12-31\")\n",
    "print(data.head())\n"
   ]
  },
  {
   "cell_type": "code",
   "execution_count": null,
   "id": "c6852c10",
   "metadata": {},
   "outputs": [],
   "source": []
  }
 ],
 "metadata": {
  "kernelspec": {
   "display_name": "stock_forecast",
   "language": "python",
   "name": "python3"
  },
  "language_info": {
   "codemirror_mode": {
    "name": "ipython",
    "version": 3
   },
   "file_extension": ".py",
   "mimetype": "text/x-python",
   "name": "python",
   "nbconvert_exporter": "python",
   "pygments_lexer": "ipython3",
   "version": "3.11.11"
  }
 },
 "nbformat": 4,
 "nbformat_minor": 5
}
