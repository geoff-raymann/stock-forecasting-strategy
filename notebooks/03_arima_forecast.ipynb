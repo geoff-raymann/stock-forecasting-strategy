{
 "cells": [
  {
   "cell_type": "code",
   "execution_count": 1,
   "id": "941b7e72",
   "metadata": {},
   "outputs": [
    {
     "data": {
      "text/html": [
       "<div>\n",
       "<style scoped>\n",
       "    .dataframe tbody tr th:only-of-type {\n",
       "        vertical-align: middle;\n",
       "    }\n",
       "\n",
       "    .dataframe tbody tr th {\n",
       "        vertical-align: top;\n",
       "    }\n",
       "\n",
       "    .dataframe thead th {\n",
       "        text-align: right;\n",
       "    }\n",
       "</style>\n",
       "<table border=\"1\" class=\"dataframe\">\n",
       "  <thead>\n",
       "    <tr style=\"text-align: right;\">\n",
       "      <th></th>\n",
       "      <th>AAPL</th>\n",
       "      <th>MSFT</th>\n",
       "      <th>JNJ</th>\n",
       "      <th>PFE</th>\n",
       "    </tr>\n",
       "    <tr>\n",
       "      <th>Date</th>\n",
       "      <th></th>\n",
       "      <th></th>\n",
       "      <th></th>\n",
       "      <th></th>\n",
       "    </tr>\n",
       "  </thead>\n",
       "  <tbody>\n",
       "    <tr>\n",
       "      <th>NaT</th>\n",
       "      <td>AAPL</td>\n",
       "      <td>MSFT</td>\n",
       "      <td>JNJ</td>\n",
       "      <td>PFE</td>\n",
       "    </tr>\n",
       "    <tr>\n",
       "      <th>2015-01-02</th>\n",
       "      <td>24.288578033447266</td>\n",
       "      <td>39.99871063232422</td>\n",
       "      <td>78.01262664794922</td>\n",
       "      <td>19.346155166625977</td>\n",
       "    </tr>\n",
       "    <tr>\n",
       "      <th>2015-01-05</th>\n",
       "      <td>23.60433006286621</td>\n",
       "      <td>39.630882263183594</td>\n",
       "      <td>77.46775817871094</td>\n",
       "      <td>19.24118423461914</td>\n",
       "    </tr>\n",
       "    <tr>\n",
       "      <th>2015-01-06</th>\n",
       "      <td>23.606552124023438</td>\n",
       "      <td>39.04921340942383</td>\n",
       "      <td>77.08709716796875</td>\n",
       "      <td>19.401735305786133</td>\n",
       "    </tr>\n",
       "    <tr>\n",
       "      <th>2015-01-07</th>\n",
       "      <td>23.937578201293945</td>\n",
       "      <td>39.545345306396484</td>\n",
       "      <td>78.78886413574219</td>\n",
       "      <td>19.667253494262695</td>\n",
       "    </tr>\n",
       "  </tbody>\n",
       "</table>\n",
       "</div>"
      ],
      "text/plain": [
       "                          AAPL                MSFT                JNJ  \\\n",
       "Date                                                                    \n",
       "NaT                       AAPL                MSFT                JNJ   \n",
       "2015-01-02  24.288578033447266   39.99871063232422  78.01262664794922   \n",
       "2015-01-05   23.60433006286621  39.630882263183594  77.46775817871094   \n",
       "2015-01-06  23.606552124023438   39.04921340942383  77.08709716796875   \n",
       "2015-01-07  23.937578201293945  39.545345306396484  78.78886413574219   \n",
       "\n",
       "                           PFE  \n",
       "Date                            \n",
       "NaT                        PFE  \n",
       "2015-01-02  19.346155166625977  \n",
       "2015-01-05   19.24118423461914  \n",
       "2015-01-06  19.401735305786133  \n",
       "2015-01-07  19.667253494262695  "
      ]
     },
     "execution_count": 1,
     "metadata": {},
     "output_type": "execute_result"
    }
   ],
   "source": [
    "import os\n",
    "import pandas as pd\n",
    "import numpy as np\n",
    "import matplotlib.pyplot as plt\n",
    "import seaborn as sns\n",
    "\n",
    "# Plot settings\n",
    "plt.style.use(\"seaborn-v0_8-darkgrid\")  # Use the correct style name for matplotlib >= 3.6\n",
    "sns.set_palette(\"muted\")\n",
    "\n",
    "# Load data\n",
    "data_path = \"../data\"\n",
    "tickers = ['AAPL', 'MSFT', 'JNJ', 'PFE']\n",
    "\n",
    "data = {}\n",
    "for ticker in tickers:\n",
    "    file_path = os.path.join(data_path, f\"{ticker}.csv\")\n",
    "    df = pd.read_csv(file_path, parse_dates=['Date'], index_col='Date')\n",
    "    df = df[['Close']].rename(columns={'Close': ticker})\n",
    "    data[ticker] = df\n",
    "\n",
    "# Merge all tickers into one DataFrame\n",
    "df_all = pd.concat(data.values(), axis=1)\n",
    "df_all.dropna(inplace=True)\n",
    "df_all.head()"
   ]
  },
  {
   "cell_type": "code",
   "execution_count": 2,
   "id": "362350e4",
   "metadata": {},
   "outputs": [],
   "source": [
    "aapl_data = data['AAPL'].copy()"
   ]
  },
  {
   "cell_type": "code",
   "execution_count": 3,
   "id": "f995d433",
   "metadata": {},
   "outputs": [
    {
     "name": "stdout",
     "output_type": "stream",
     "text": [
      "ADF Statistic: 0.8448214354741014\n",
      "p-value: 0.9923262793933063\n"
     ]
    }
   ],
   "source": [
    "from statsmodels.tsa.stattools import adfuller\n",
    "\n",
    "# Convert to numeric and drop NaN\n",
    "aapl_numeric = pd.to_numeric(aapl_data['AAPL'], errors='coerce').dropna()\n",
    "\n",
    "# ADF Test\n",
    "result = adfuller(aapl_numeric)\n",
    "print(f\"ADF Statistic: {result[0]}\")\n",
    "print(f\"p-value: {result[1]}\")\n"
   ]
  },
  {
   "cell_type": "code",
   "execution_count": 4,
   "id": "93523e09",
   "metadata": {},
   "outputs": [
    {
     "name": "stderr",
     "output_type": "stream",
     "text": [
      "c:\\Users\\GODIWOUR\\AppData\\Local\\anaconda\\envs\\stock_forecast\\Lib\\site-packages\\statsmodels\\tsa\\base\\tsa_model.py:473: ValueWarning: A date index has been provided, but it has no associated frequency information and so will be ignored when e.g. forecasting.\n",
      "  self._init_dates(dates, freq)\n",
      "c:\\Users\\GODIWOUR\\AppData\\Local\\anaconda\\envs\\stock_forecast\\Lib\\site-packages\\statsmodels\\tsa\\base\\tsa_model.py:473: ValueWarning: A date index has been provided, but it has no associated frequency information and so will be ignored when e.g. forecasting.\n",
      "  self._init_dates(dates, freq)\n",
      "c:\\Users\\GODIWOUR\\AppData\\Local\\anaconda\\envs\\stock_forecast\\Lib\\site-packages\\statsmodels\\tsa\\base\\tsa_model.py:473: ValueWarning: A date index has been provided, but it has no associated frequency information and so will be ignored when e.g. forecasting.\n",
      "  self._init_dates(dates, freq)\n",
      "c:\\Users\\GODIWOUR\\AppData\\Local\\anaconda\\envs\\stock_forecast\\Lib\\site-packages\\statsmodels\\tsa\\statespace\\sarimax.py:966: UserWarning: Non-stationary starting autoregressive parameters found. Using zeros as starting parameters.\n",
      "  warn('Non-stationary starting autoregressive parameters'\n",
      "c:\\Users\\GODIWOUR\\AppData\\Local\\anaconda\\envs\\stock_forecast\\Lib\\site-packages\\statsmodels\\tsa\\statespace\\sarimax.py:978: UserWarning: Non-invertible starting MA parameters found. Using zeros as starting parameters.\n",
      "  warn('Non-invertible starting MA parameters found.'\n"
     ]
    },
    {
     "name": "stdout",
     "output_type": "stream",
     "text": [
      "                               SARIMAX Results                                \n",
      "==============================================================================\n",
      "Dep. Variable:                   AAPL   No. Observations:                 2515\n",
      "Model:                 ARIMA(1, 1, 1)   Log Likelihood               -5215.294\n",
      "Date:                Mon, 16 Jun 2025   AIC                          10436.587\n",
      "Time:                        15:42:59   BIC                          10454.076\n",
      "Sample:                             0   HQIC                         10442.935\n",
      "                               - 2515                                         \n",
      "Covariance Type:                  opg                                         \n",
      "==============================================================================\n",
      "                 coef    std err          z      P>|z|      [0.025      0.975]\n",
      "------------------------------------------------------------------------------\n",
      "ar.L1          0.5412      0.373      1.452      0.146      -0.189       1.272\n",
      "ma.L1         -0.5617      0.368     -1.525      0.127      -1.284       0.160\n",
      "sigma2         3.7103      0.053     70.230      0.000       3.607       3.814\n",
      "===================================================================================\n",
      "Ljung-Box (L1) (Q):                   0.08   Jarque-Bera (JB):              3906.92\n",
      "Prob(Q):                              0.77   Prob(JB):                         0.00\n",
      "Heteroskedasticity (H):              41.88   Skew:                             0.05\n",
      "Prob(H) (two-sided):                  0.00   Kurtosis:                         9.11\n",
      "===================================================================================\n",
      "\n",
      "Warnings:\n",
      "[1] Covariance matrix calculated using the outer product of gradients (complex-step).\n"
     ]
    }
   ],
   "source": [
    "from statsmodels.tsa.arima.model import ARIMA\n",
    "\n",
    "# (p,d,q) example: ARIMA(1,1,1)\n",
    "model = ARIMA(aapl_numeric, order=(1, 1, 1))\n",
    "fitted_model = model.fit()\n",
    "print(fitted_model.summary())"
   ]
  },
  {
   "cell_type": "code",
   "execution_count": 6,
   "id": "f466689a",
   "metadata": {},
   "outputs": [
    {
     "name": "stderr",
     "output_type": "stream",
     "text": [
      "c:\\Users\\GODIWOUR\\AppData\\Local\\anaconda\\envs\\stock_forecast\\Lib\\site-packages\\statsmodels\\tsa\\base\\tsa_model.py:836: ValueWarning: No supported index is available. Prediction results will be given with an integer index beginning at `start`.\n",
      "  return get_prediction_index(\n",
      "c:\\Users\\GODIWOUR\\AppData\\Local\\anaconda\\envs\\stock_forecast\\Lib\\site-packages\\statsmodels\\tsa\\base\\tsa_model.py:836: FutureWarning: No supported index is available. In the next version, calling this method in a model without a supported index will result in an exception.\n",
      "  return get_prediction_index(\n"
     ]
    },
    {
     "data": {
      "image/png": "[encoded data removed]",
      "text/plain": [
       "<Figure size 1000x500 with 1 Axes>"
      ]
     },
     "metadata": {},
     "output_type": "display_data"
    }
   ],
   "source": [
    "import os\n",
    "\n",
    "# Use the last valid date in the index (excluding NaT)\n",
    "# Ensure the results directory exists\n",
    "os.makedirs(\"results\", exist_ok=True)\n",
    "\n",
    "last_valid_date = aapl_data.index[aapl_data.index.notnull()][-1]\n",
    "forecast = fitted_model.forecast(steps=30)\n",
    "forecast.index = pd.date_range(start=last_valid_date, periods=31, freq='B')[1:]  # Business days\n",
    "\n",
    "# Save forecast to CSV\n",
    "forecast.to_csv(\"results/aapl_forecast.csv\", header=True)\n",
    "\n",
    "plt.figure(figsize=(10, 5))\n",
    "plt.plot(aapl_numeric.iloc[-100:], label=\"Historical\")\n",
    "plt.plot(forecast, label=\"Forecast\", color='red')\n",
    "plt.title(\"AAPL Stock Price Forecast (30 Days)\")\n",
    "plt.legend()\n",
    "plt.show()"
   ]
  }
 ],
 "metadata": {
  "kernelspec": {
   "display_name": "stock_forecast",
   "language": "python",
   "name": "python3"
  },
  "language_info": {
   "codemirror_mode": {
    "name": "ipython",
    "version": 3
   },
   "file_extension": ".py",
   "mimetype": "text/x-python",
   "name": "python",
   "nbconvert_exporter": "python",
   "pygments_lexer": "ipython3",
   "version": "3.11.11"
  }
 },
 "nbformat": 4,
 "nbformat_minor": 5
}
